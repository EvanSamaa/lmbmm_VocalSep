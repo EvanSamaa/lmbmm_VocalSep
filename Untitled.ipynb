{
 "cells": [
  {
   "cell_type": "code",
   "execution_count": 68,
   "id": "f1dd79d9",
   "metadata": {},
   "outputs": [],
   "source": [
    "import torch as torch\n",
    "from util.data_loader import NUSMusicTest\n",
    "from matplotlib import pyplot as plt\n",
    "import torch.nn.functional as F\n",
    "import numpy as np"
   ]
  },
  {
   "cell_type": "code",
   "execution_count": 15,
   "id": "e3aae453",
   "metadata": {
    "scrolled": true
   },
   "outputs": [
    {
     "name": "stdout",
     "output_type": "stream",
     "text": [
      "torch.Size([1, 288, 76])\n",
      "torch.Size([2, 288, 76])\n"
     ]
    }
   ],
   "source": [
    "data = NUSMusicTest(\"landmarks\", mono=True, fixed_length=True, landmarkNoise=0.02)\n",
    "mix, groundTruth, sideinfo = data.__getitem__(0)\n",
    "test_tensor = [torch.unsqueeze(sideinfo, axis=0)]\n",
    "mix, groundTruth, sideinfo2 = data.__getitem__(2)\n",
    "test_tensor.append(torch.unsqueeze(sideinfo2, axis=0))\n",
    "test_tensor = torch.cat(test_tensor, dim=0)"
   ]
  },
  {
   "cell_type": "code",
   "execution_count": 65,
   "id": "87cb02b0",
   "metadata": {},
   "outputs": [],
   "source": [
    "def testPlot(tensor = 0, b=0, lm=0):\n",
    "    nptensor = tensor.numpy()\n",
    "    plt.plot(nptensor[b, :, lm])\n",
    "    \n",
    "def testPlot2(tensor = 0, b=0, lm=0):\n",
    "    nptensor = tensor.numpy()\n",
    "    nptensor = nptensor[b, lm, :]\n",
    "#     nptensor = nptensor.reshape(nptensor.shape[1])\n",
    "    plt.plot(nptensor)"
   ]
  },
  {
   "cell_type": "code",
   "execution_count": 66,
   "id": "337d62d4",
   "metadata": {},
   "outputs": [
    {
     "name": "stdout",
     "output_type": "stream",
     "text": [
      "torch.Size([2, 912, 180])\n"
     ]
    },
    {
     "data": {
      "image/png": "[encoded data removed]",
      "text/plain": [
       "<Figure size 432x288 with 1 Axes>"
      ]
     },
     "metadata": {
      "needs_background": "light"
     },
     "output_type": "display_data"
    }
   ],
   "source": [
    "x=torch.zeros([2, 180, 200])\n",
    "window_size = 12\n",
    "landmarks =test_tensor\n",
    "batchsize_LM, num_frames_LM, numLM = landmarks.shape\n",
    "landmarks = test_tensor.permute((0, 2, 1))\n",
    "# landmarks = [Batch, L*2, new_T]\n",
    "landmarks = F.interpolate(landmarks, x.shape[1]*window_size, mode=\"linear\")\n",
    "landmarks = landmarks.permute((0, 2, 1))\n",
    "landmarks = landmarks.reshape(batchsize_LM, num_frames_LM, window_size, numLM)\n",
    "landmarks = landmarks.permute(0, 1, 3, 2)\n",
    "landmarks = landmarks.reshape(batchsize_LM, num_frames_LM, window_size*numLM)\n"
   ]
  },
  {
   "cell_type": "code",
   "execution_count": 105,
   "id": "84826e62",
   "metadata": {},
   "outputs": [
    {
     "name": "stdout",
     "output_type": "stream",
     "text": [
      "tensor([[[ 0.,  1.,  2.],\n",
      "         [ 3.,  4.,  5.]],\n",
      "\n",
      "        [[ 6.,  7.,  8.],\n",
      "         [ 9., 10., 11.]]])\n",
      "tensor([[[ 0.0000,  0.7500,  1.0000,  1.7500,  2.0000,  2.7500],\n",
      "         [ 2.2500,  3.0000,  3.2500,  4.0000,  4.2500,  5.0000]],\n",
      "\n",
      "        [[ 6.0000,  6.7500,  7.0000,  7.7500,  8.0000,  8.7500],\n",
      "         [ 8.2500,  9.0000,  9.2500, 10.0000, 10.2500, 11.0000]]])\n"
     ]
    }
   ],
   "source": [
    "out = np.arange(0, 12) * 1.0\n",
    "out = out.reshape(2, 2, 3)\n",
    "tensor_out = torch.FloatTensor(out)\n",
    "print(tensor_out)\n",
    "# [2, 2, 3]\n",
    "tensor_out = tensor_out.permute((0, 2, 1))\n",
    "# [2, 3, 2]\n",
    "tensor_out = F.interpolate(tensor_out, 4, mode=\"linear\")\n",
    "# [2, 3, 4]\n",
    "tensor_out = tensor_out.permute((0, 2, 1))\n",
    "# [2, 4, 3]\n",
    "tensor_out = tensor_out.reshape(2, 2, 2, 3)\n",
    "tensor_out = tensor_out.permute(0, 1, 3, 2)\n",
    "tensor_out = tensor_out.reshape(2, 2, 6)\n",
    "print(tensor_out)\n",
    "tensor_out = tensor_out.reshape(2, 6, 2)\n",
    "\n",
    "# tensor_out = tensor_out.reshape(2, 2, 6)\n",
    "# print(tensor_out)\n",
    "# tensor_out = tensor_out.permute((0, 2, 1))"
   ]
  },
  {
   "cell_type": "code",
   "execution_count": 95,
   "id": "fc80dd26",
   "metadata": {},
   "outputs": [
    {
     "name": "stdout",
     "output_type": "stream",
     "text": [
      "tensor([[[ 0.,  1.,  2.],\n",
      "         [ 3.,  4.,  5.]],\n",
      "\n",
      "        [[ 6.,  7.,  8.],\n",
      "         [ 9., 10., 11.]]])\n",
      "tensor([[ 0.,  1.,  2.],\n",
      "        [ 3.,  4.,  5.],\n",
      "        [ 6.,  7.,  8.],\n",
      "        [ 9., 10., 11.]])\n"
     ]
    }
   ],
   "source": [
    "out = np.arange(0, 12) * 1.0\n",
    "out = out.reshape(2, 2, 3)\n",
    "tensor_out = torch.FloatTensor(out)\n",
    "print(tensor_out)\n",
    "tensor_out = tensor_out.reshape(4, 3)\n",
    "print(tensor_out)"
   ]
  },
  {
   "cell_type": "code",
   "execution_count": null,
   "id": "bfa47767",
   "metadata": {},
   "outputs": [],
   "source": []
  }
 ],
 "metadata": {
  "kernelspec": {
   "display_name": "visemenet",
   "language": "python",
   "name": "visemenet"
  },
  "language_info": {
   "codemirror_mode": {
    "name": "ipython",
    "version": 3
   },
   "file_extension": ".py",
   "mimetype": "text/x-python",
   "name": "python",
   "nbconvert_exporter": "python",
   "pygments_lexer": "ipython3",
   "version": "3.8.11"
  }
 },
 "nbformat": 4,
 "nbformat_minor": 5
}
